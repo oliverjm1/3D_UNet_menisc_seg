{
 "cells": [
  {
   "cell_type": "markdown",
   "id": "1d52856d",
   "metadata": {},
   "source": [
    "# Looking at SKM-TEA Predictions"
   ]
  },
  {
   "cell_type": "code",
   "execution_count": 1,
   "id": "cd49049a",
   "metadata": {},
   "outputs": [],
   "source": [
    "# Imports\n",
    "import h5py\n",
    "import numpy as np\n",
    "import matplotlib.pyplot as plt\n",
    "import pydicom\n",
    "import os\n",
    "import json\n",
    "import pandas as pd\n",
    "import torch"
   ]
  },
  {
   "cell_type": "code",
   "execution_count": 2,
   "id": "f865aa57",
   "metadata": {},
   "outputs": [],
   "source": [
    "# Define Dice Coefficient for two masks\n",
    "def dice_coefficient(mask1, mask2):\n",
    "    intersection = torch.sum(mask1 * mask2)\n",
    "    sum = mask1.sum().item() + mask2.sum().item()\n",
    "    dice = (2.0 * intersection) / sum\n",
    "    return dice.item()"
   ]
  },
  {
   "cell_type": "code",
   "execution_count": 74,
   "id": "2ba9a2e2",
   "metadata": {},
   "outputs": [],
   "source": [
    "# return menisci mask from path\n",
    "def get_meniscus_mask(data_dir, filename):\n",
    "\n",
    "    # Get full path to ground truth file\n",
    "    full_gt_path = os.path.join(data_dir, filename)\n",
    "\n",
    "    # Open the HDF5 file in read mode\n",
    "    with h5py.File(full_gt_path, 'r') as hf:\n",
    "        # Load segmentation data (One-hot encoded, 6 classes)\n",
    "        seg = hf['seg'][:]\n",
    "\n",
    "    # Get just meniscus mask\n",
    "    # menisci\n",
    "    med_mask = seg[...,4]\n",
    "\n",
    "    lat_mask = seg[...,5]\n",
    "\n",
    "    # combine\n",
    "    minisc_mask = np.add(med_mask, lat_mask)\n",
    "\n",
    "    return minisc_mask"
   ]
  },
  {
   "cell_type": "markdown",
   "id": "39b357d8",
   "metadata": {},
   "source": [
    "## Get Image Paths"
   ]
  },
  {
   "cell_type": "code",
   "execution_count": 31,
   "id": "29ca58da",
   "metadata": {},
   "outputs": [],
   "source": [
    "# Paths\n",
    "image_dir_path = 'qdess/v1-release/image_files/'\n",
    "ann_dir_path = 'qdess/v1-release/annotations/v1.0.0/'\n",
    "pred_path = 'unet_mask_predictions_val'"
   ]
  },
  {
   "cell_type": "code",
   "execution_count": 4,
   "id": "b062c5ee",
   "metadata": {},
   "outputs": [
    {
     "data": {
      "text/html": [
       "<div>\n",
       "<style scoped>\n",
       "    .dataframe tbody tr th:only-of-type {\n",
       "        vertical-align: middle;\n",
       "    }\n",
       "\n",
       "    .dataframe tbody tr th {\n",
       "        vertical-align: top;\n",
       "    }\n",
       "\n",
       "    .dataframe thead th {\n",
       "        text-align: right;\n",
       "    }\n",
       "</style>\n",
       "<table border=\"1\" class=\"dataframe\">\n",
       "  <thead>\n",
       "    <tr style=\"text-align: right;\">\n",
       "      <th></th>\n",
       "      <th>id</th>\n",
       "      <th>file_name</th>\n",
       "      <th>msp_id</th>\n",
       "      <th>msp_file_name</th>\n",
       "      <th>scan_id</th>\n",
       "      <th>subject_id</th>\n",
       "      <th>timepoint</th>\n",
       "      <th>voxel_spacing</th>\n",
       "      <th>matrix_shape</th>\n",
       "      <th>orientation</th>\n",
       "      <th>num_echoes</th>\n",
       "      <th>inspected</th>\n",
       "    </tr>\n",
       "  </thead>\n",
       "  <tbody>\n",
       "    <tr>\n",
       "      <th>0</th>\n",
       "      <td>1</td>\n",
       "      <td>MTR_013.h5</td>\n",
       "      <td>0000048_V00</td>\n",
       "      <td>0000048_V00.h5</td>\n",
       "      <td>MTR_013</td>\n",
       "      <td>48</td>\n",
       "      <td>0</td>\n",
       "      <td>[0.3125, 0.3125, 0.8]</td>\n",
       "      <td>[512, 512, 160]</td>\n",
       "      <td>[SI, AP, LR]</td>\n",
       "      <td>2</td>\n",
       "      <td>True</td>\n",
       "    </tr>\n",
       "    <tr>\n",
       "      <th>1</th>\n",
       "      <td>2</td>\n",
       "      <td>MTR_023.h5</td>\n",
       "      <td>0000195_V00</td>\n",
       "      <td>0000195_V00.h5</td>\n",
       "      <td>MTR_023</td>\n",
       "      <td>195</td>\n",
       "      <td>0</td>\n",
       "      <td>[0.3125, 0.3125, 0.8]</td>\n",
       "      <td>[512, 512, 160]</td>\n",
       "      <td>[SI, AP, LR]</td>\n",
       "      <td>2</td>\n",
       "      <td>True</td>\n",
       "    </tr>\n",
       "    <tr>\n",
       "      <th>2</th>\n",
       "      <td>3</td>\n",
       "      <td>MTR_026.h5</td>\n",
       "      <td>0000189_V00</td>\n",
       "      <td>0000189_V00.h5</td>\n",
       "      <td>MTR_026</td>\n",
       "      <td>189</td>\n",
       "      <td>0</td>\n",
       "      <td>[0.3125, 0.3125, 0.8]</td>\n",
       "      <td>[512, 512, 160]</td>\n",
       "      <td>[SI, AP, LR]</td>\n",
       "      <td>2</td>\n",
       "      <td>True</td>\n",
       "    </tr>\n",
       "    <tr>\n",
       "      <th>3</th>\n",
       "      <td>4</td>\n",
       "      <td>MTR_037.h5</td>\n",
       "      <td>0000263_V00</td>\n",
       "      <td>0000263_V00.h5</td>\n",
       "      <td>MTR_037</td>\n",
       "      <td>263</td>\n",
       "      <td>0</td>\n",
       "      <td>[0.3125, 0.3125, 0.8]</td>\n",
       "      <td>[512, 512, 160]</td>\n",
       "      <td>[SI, AP, LR]</td>\n",
       "      <td>2</td>\n",
       "      <td>True</td>\n",
       "    </tr>\n",
       "    <tr>\n",
       "      <th>4</th>\n",
       "      <td>5</td>\n",
       "      <td>MTR_038.h5</td>\n",
       "      <td>0000184_V00</td>\n",
       "      <td>0000184_V00.h5</td>\n",
       "      <td>MTR_038</td>\n",
       "      <td>184</td>\n",
       "      <td>0</td>\n",
       "      <td>[0.3125, 0.3125, 0.8]</td>\n",
       "      <td>[512, 512, 160]</td>\n",
       "      <td>[SI, AP, LR]</td>\n",
       "      <td>2</td>\n",
       "      <td>True</td>\n",
       "    </tr>\n",
       "  </tbody>\n",
       "</table>\n",
       "</div>"
      ],
      "text/plain": [
       "   id   file_name       msp_id   msp_file_name  scan_id  subject_id  \\\n",
       "0   1  MTR_013.h5  0000048_V00  0000048_V00.h5  MTR_013          48   \n",
       "1   2  MTR_023.h5  0000195_V00  0000195_V00.h5  MTR_023         195   \n",
       "2   3  MTR_026.h5  0000189_V00  0000189_V00.h5  MTR_026         189   \n",
       "3   4  MTR_037.h5  0000263_V00  0000263_V00.h5  MTR_037         263   \n",
       "4   5  MTR_038.h5  0000184_V00  0000184_V00.h5  MTR_038         184   \n",
       "\n",
       "   timepoint          voxel_spacing     matrix_shape   orientation  \\\n",
       "0          0  [0.3125, 0.3125, 0.8]  [512, 512, 160]  [SI, AP, LR]   \n",
       "1          0  [0.3125, 0.3125, 0.8]  [512, 512, 160]  [SI, AP, LR]   \n",
       "2          0  [0.3125, 0.3125, 0.8]  [512, 512, 160]  [SI, AP, LR]   \n",
       "3          0  [0.3125, 0.3125, 0.8]  [512, 512, 160]  [SI, AP, LR]   \n",
       "4          0  [0.3125, 0.3125, 0.8]  [512, 512, 160]  [SI, AP, LR]   \n",
       "\n",
       "   num_echoes  inspected  \n",
       "0           2       True  \n",
       "1           2       True  \n",
       "2           2       True  \n",
       "3           2       True  \n",
       "4           2       True  "
      ]
     },
     "execution_count": 4,
     "metadata": {},
     "output_type": "execute_result"
    }
   ],
   "source": [
    "# Path to the JSON file\n",
    "file_path = \"val.json\"\n",
    "\n",
    "# Open and load the JSON file\n",
    "with open(ann_dir_path + file_path, \"r\") as file:\n",
    "    data = json.load(file)\n",
    "\n",
    "# Access each part of the JSON structure\n",
    "info = data[\"info\"]\n",
    "categories = data[\"categories\"]\n",
    "images = data[\"images\"]\n",
    "annotations = data[\"annotations\"]\n",
    "\n",
    "# get paths from image data\n",
    "ims_df = pd.DataFrame(images)\n",
    "ims_df.head()"
   ]
  },
  {
   "cell_type": "code",
   "execution_count": 5,
   "id": "291f54bf",
   "metadata": {},
   "outputs": [
    {
     "data": {
      "text/plain": [
       "33"
      ]
     },
     "execution_count": 5,
     "metadata": {},
     "output_type": "execute_result"
    }
   ],
   "source": [
    "len(ims_df)"
   ]
  },
  {
   "cell_type": "code",
   "execution_count": 6,
   "id": "aa3b5fc1",
   "metadata": {},
   "outputs": [
    {
     "name": "stdout",
     "output_type": "stream",
     "text": [
      "['MTR_013.h5' 'MTR_023.h5' 'MTR_026.h5' 'MTR_037.h5' 'MTR_038.h5']\n"
     ]
    }
   ],
   "source": [
    "# paths of all images in the split the json file refers to\n",
    "image_paths = ims_df['file_name'].to_numpy()\n",
    "print(image_paths[:5])"
   ]
  },
  {
   "cell_type": "code",
   "execution_count": 9,
   "id": "7fefa02c",
   "metadata": {},
   "outputs": [],
   "source": [
    "# Mapping dictionaries for cross-referencing filename from imageid\n",
    "id_to_filename = dict(zip(ims_df[\"id\"], ims_df[\"file_name\"]))"
   ]
  },
  {
   "cell_type": "markdown",
   "id": "2c9f9ecb",
   "metadata": {},
   "source": [
    "# pathology categories and ids"
   ]
  },
  {
   "cell_type": "code",
   "execution_count": 10,
   "id": "c6fe5029",
   "metadata": {},
   "outputs": [],
   "source": [
    "# as a dataframe\n",
    "categories_df = pd.DataFrame(categories)"
   ]
  },
  {
   "cell_type": "code",
   "execution_count": 11,
   "id": "3e451eac",
   "metadata": {},
   "outputs": [
    {
     "data": {
      "text/html": [
       "<div>\n",
       "<style scoped>\n",
       "    .dataframe tbody tr th:only-of-type {\n",
       "        vertical-align: middle;\n",
       "    }\n",
       "\n",
       "    .dataframe tbody tr th {\n",
       "        vertical-align: top;\n",
       "    }\n",
       "\n",
       "    .dataframe thead th {\n",
       "        text-align: right;\n",
       "    }\n",
       "</style>\n",
       "<table border=\"1\" class=\"dataframe\">\n",
       "  <thead>\n",
       "    <tr style=\"text-align: right;\">\n",
       "      <th></th>\n",
       "      <th>supercategory</th>\n",
       "      <th>supercategory_id</th>\n",
       "      <th>id</th>\n",
       "      <th>name</th>\n",
       "    </tr>\n",
       "  </thead>\n",
       "  <tbody>\n",
       "    <tr>\n",
       "      <th>0</th>\n",
       "      <td>Meniscal Tear</td>\n",
       "      <td>1</td>\n",
       "      <td>1</td>\n",
       "      <td>Meniscal Tear (Myxoid)</td>\n",
       "    </tr>\n",
       "    <tr>\n",
       "      <th>1</th>\n",
       "      <td>Meniscal Tear</td>\n",
       "      <td>1</td>\n",
       "      <td>2</td>\n",
       "      <td>Meniscal Tear (Horizontal)</td>\n",
       "    </tr>\n",
       "    <tr>\n",
       "      <th>2</th>\n",
       "      <td>Meniscal Tear</td>\n",
       "      <td>1</td>\n",
       "      <td>3</td>\n",
       "      <td>Meniscal Tear (Radial)</td>\n",
       "    </tr>\n",
       "    <tr>\n",
       "      <th>3</th>\n",
       "      <td>Meniscal Tear</td>\n",
       "      <td>1</td>\n",
       "      <td>4</td>\n",
       "      <td>Meniscal Tear (Vertical/Longitudinal)</td>\n",
       "    </tr>\n",
       "    <tr>\n",
       "      <th>4</th>\n",
       "      <td>Meniscal Tear</td>\n",
       "      <td>1</td>\n",
       "      <td>5</td>\n",
       "      <td>Meniscal Tear (Oblique)</td>\n",
       "    </tr>\n",
       "    <tr>\n",
       "      <th>5</th>\n",
       "      <td>Meniscal Tear</td>\n",
       "      <td>1</td>\n",
       "      <td>6</td>\n",
       "      <td>Meniscal Tear (Complex)</td>\n",
       "    </tr>\n",
       "    <tr>\n",
       "      <th>6</th>\n",
       "      <td>Meniscal Tear</td>\n",
       "      <td>1</td>\n",
       "      <td>7</td>\n",
       "      <td>Meniscal Tear (Flap)</td>\n",
       "    </tr>\n",
       "    <tr>\n",
       "      <th>7</th>\n",
       "      <td>Meniscal Tear</td>\n",
       "      <td>1</td>\n",
       "      <td>8</td>\n",
       "      <td>Meniscal Tear (Extrusion)</td>\n",
       "    </tr>\n",
       "    <tr>\n",
       "      <th>8</th>\n",
       "      <td>Ligament Tear</td>\n",
       "      <td>2</td>\n",
       "      <td>9</td>\n",
       "      <td>Ligament Tear (Low-Grade Sprain)</td>\n",
       "    </tr>\n",
       "    <tr>\n",
       "      <th>9</th>\n",
       "      <td>Ligament Tear</td>\n",
       "      <td>2</td>\n",
       "      <td>10</td>\n",
       "      <td>Ligament Tear (Moderate Grade Sprain or Mucoid...</td>\n",
       "    </tr>\n",
       "    <tr>\n",
       "      <th>10</th>\n",
       "      <td>Ligament Tear</td>\n",
       "      <td>2</td>\n",
       "      <td>11</td>\n",
       "      <td>Ligament Tear (Full Thickness/Complete Tear)</td>\n",
       "    </tr>\n",
       "    <tr>\n",
       "      <th>11</th>\n",
       "      <td>Cartilage Lesion</td>\n",
       "      <td>3</td>\n",
       "      <td>12</td>\n",
       "      <td>Cartilage Lesion (1)</td>\n",
       "    </tr>\n",
       "    <tr>\n",
       "      <th>12</th>\n",
       "      <td>Cartilage Lesion</td>\n",
       "      <td>3</td>\n",
       "      <td>13</td>\n",
       "      <td>Cartilage Lesion (2A)</td>\n",
       "    </tr>\n",
       "    <tr>\n",
       "      <th>13</th>\n",
       "      <td>Cartilage Lesion</td>\n",
       "      <td>3</td>\n",
       "      <td>14</td>\n",
       "      <td>Cartilage Lesion (2B)</td>\n",
       "    </tr>\n",
       "    <tr>\n",
       "      <th>14</th>\n",
       "      <td>Cartilage Lesion</td>\n",
       "      <td>3</td>\n",
       "      <td>15</td>\n",
       "      <td>Cartilage Lesion (3)</td>\n",
       "    </tr>\n",
       "    <tr>\n",
       "      <th>15</th>\n",
       "      <td>Effusion</td>\n",
       "      <td>4</td>\n",
       "      <td>16</td>\n",
       "      <td>Effusion</td>\n",
       "    </tr>\n",
       "  </tbody>\n",
       "</table>\n",
       "</div>"
      ],
      "text/plain": [
       "       supercategory  supercategory_id  id  \\\n",
       "0      Meniscal Tear                 1   1   \n",
       "1      Meniscal Tear                 1   2   \n",
       "2      Meniscal Tear                 1   3   \n",
       "3      Meniscal Tear                 1   4   \n",
       "4      Meniscal Tear                 1   5   \n",
       "5      Meniscal Tear                 1   6   \n",
       "6      Meniscal Tear                 1   7   \n",
       "7      Meniscal Tear                 1   8   \n",
       "8      Ligament Tear                 2   9   \n",
       "9      Ligament Tear                 2  10   \n",
       "10     Ligament Tear                 2  11   \n",
       "11  Cartilage Lesion                 3  12   \n",
       "12  Cartilage Lesion                 3  13   \n",
       "13  Cartilage Lesion                 3  14   \n",
       "14  Cartilage Lesion                 3  15   \n",
       "15          Effusion                 4  16   \n",
       "\n",
       "                                                 name  \n",
       "0                              Meniscal Tear (Myxoid)  \n",
       "1                          Meniscal Tear (Horizontal)  \n",
       "2                              Meniscal Tear (Radial)  \n",
       "3               Meniscal Tear (Vertical/Longitudinal)  \n",
       "4                             Meniscal Tear (Oblique)  \n",
       "5                             Meniscal Tear (Complex)  \n",
       "6                                Meniscal Tear (Flap)  \n",
       "7                           Meniscal Tear (Extrusion)  \n",
       "8                    Ligament Tear (Low-Grade Sprain)  \n",
       "9   Ligament Tear (Moderate Grade Sprain or Mucoid...  \n",
       "10       Ligament Tear (Full Thickness/Complete Tear)  \n",
       "11                               Cartilage Lesion (1)  \n",
       "12                              Cartilage Lesion (2A)  \n",
       "13                              Cartilage Lesion (2B)  \n",
       "14                               Cartilage Lesion (3)  \n",
       "15                                           Effusion  "
      ]
     },
     "execution_count": 11,
     "metadata": {},
     "output_type": "execute_result"
    }
   ],
   "source": [
    "# notice category 1 is meniscal tear\n",
    "categories_df"
   ]
  },
  {
   "cell_type": "code",
   "execution_count": 12,
   "id": "ffb9af08",
   "metadata": {},
   "outputs": [],
   "source": [
    "# Mapping dictionaries for cross-referencing\n",
    "id_to_name = dict(zip(categories_df[\"id\"], categories_df[\"name\"]))\n",
    "id_to_supercategory = dict(zip(categories_df[\"id\"], categories_df[\"supercategory\"]))"
   ]
  },
  {
   "cell_type": "code",
   "execution_count": 13,
   "id": "52d45a07",
   "metadata": {},
   "outputs": [
    {
     "data": {
      "text/plain": [
       "'Meniscal Tear (Myxoid)'"
      ]
     },
     "execution_count": 13,
     "metadata": {},
     "output_type": "execute_result"
    }
   ],
   "source": [
    "id_to_name.get(1)"
   ]
  },
  {
   "cell_type": "markdown",
   "id": "5b92a952",
   "metadata": {},
   "source": [
    "## Load and sort pathology annotations"
   ]
  },
  {
   "cell_type": "code",
   "execution_count": 14,
   "id": "a4863d2d",
   "metadata": {},
   "outputs": [
    {
     "data": {
      "text/plain": [
       "{'id': 1,\n",
       " 'image_id': 19,\n",
       " 'category_id': 16,\n",
       " 'tissue_id': -1,\n",
       " 'bbox': [88.0, 19.0, 38.0, 247.0, 240.0, 92.0],\n",
       " 'confidence': 5.0,\n",
       " 'labeler': 1}"
      ]
     },
     "execution_count": 14,
     "metadata": {},
     "output_type": "execute_result"
    }
   ],
   "source": [
    "annotations[0]"
   ]
  },
  {
   "cell_type": "code",
   "execution_count": 15,
   "id": "bec9621a",
   "metadata": {},
   "outputs": [],
   "source": [
    "anns_df = pd.DataFrame(annotations)"
   ]
  },
  {
   "cell_type": "code",
   "execution_count": 16,
   "id": "0049af9c",
   "metadata": {},
   "outputs": [
    {
     "data": {
      "text/html": [
       "<div>\n",
       "<style scoped>\n",
       "    .dataframe tbody tr th:only-of-type {\n",
       "        vertical-align: middle;\n",
       "    }\n",
       "\n",
       "    .dataframe tbody tr th {\n",
       "        vertical-align: top;\n",
       "    }\n",
       "\n",
       "    .dataframe thead th {\n",
       "        text-align: right;\n",
       "    }\n",
       "</style>\n",
       "<table border=\"1\" class=\"dataframe\">\n",
       "  <thead>\n",
       "    <tr style=\"text-align: right;\">\n",
       "      <th></th>\n",
       "      <th>id</th>\n",
       "      <th>image_id</th>\n",
       "      <th>category_id</th>\n",
       "      <th>tissue_id</th>\n",
       "      <th>bbox</th>\n",
       "      <th>confidence</th>\n",
       "      <th>labeler</th>\n",
       "    </tr>\n",
       "  </thead>\n",
       "  <tbody>\n",
       "    <tr>\n",
       "      <th>0</th>\n",
       "      <td>1</td>\n",
       "      <td>19</td>\n",
       "      <td>16</td>\n",
       "      <td>-1</td>\n",
       "      <td>[88.0, 19.0, 38.0, 247.0, 240.0, 92.0]</td>\n",
       "      <td>5.0</td>\n",
       "      <td>1</td>\n",
       "    </tr>\n",
       "    <tr>\n",
       "      <th>1</th>\n",
       "      <td>2</td>\n",
       "      <td>19</td>\n",
       "      <td>5</td>\n",
       "      <td>1</td>\n",
       "      <td>[328.0, 295.0, 104.0, 6.0, 11.0, 12.0]</td>\n",
       "      <td>4.0</td>\n",
       "      <td>1</td>\n",
       "    </tr>\n",
       "    <tr>\n",
       "      <th>2</th>\n",
       "      <td>3</td>\n",
       "      <td>19</td>\n",
       "      <td>11</td>\n",
       "      <td>2</td>\n",
       "      <td>[257.0, 245.0, 72.0, 40.0, 34.0, 16.0]</td>\n",
       "      <td>4.0</td>\n",
       "      <td>1</td>\n",
       "    </tr>\n",
       "    <tr>\n",
       "      <th>3</th>\n",
       "      <td>4</td>\n",
       "      <td>21</td>\n",
       "      <td>2</td>\n",
       "      <td>1</td>\n",
       "      <td>[355.0, 208.0, 41.0, 12.0, 21.0, 15.0]</td>\n",
       "      <td>4.0</td>\n",
       "      <td>1</td>\n",
       "    </tr>\n",
       "    <tr>\n",
       "      <th>4</th>\n",
       "      <td>5</td>\n",
       "      <td>32</td>\n",
       "      <td>16</td>\n",
       "      <td>-1</td>\n",
       "      <td>[5.0, 111.0, 66.0, 227.0, 103.0, 61.0]</td>\n",
       "      <td>4.0</td>\n",
       "      <td>1</td>\n",
       "    </tr>\n",
       "  </tbody>\n",
       "</table>\n",
       "</div>"
      ],
      "text/plain": [
       "   id  image_id  category_id  tissue_id  \\\n",
       "0   1        19           16         -1   \n",
       "1   2        19            5          1   \n",
       "2   3        19           11          2   \n",
       "3   4        21            2          1   \n",
       "4   5        32           16         -1   \n",
       "\n",
       "                                     bbox  confidence  labeler  \n",
       "0  [88.0, 19.0, 38.0, 247.0, 240.0, 92.0]         5.0        1  \n",
       "1  [328.0, 295.0, 104.0, 6.0, 11.0, 12.0]         4.0        1  \n",
       "2  [257.0, 245.0, 72.0, 40.0, 34.0, 16.0]         4.0        1  \n",
       "3  [355.0, 208.0, 41.0, 12.0, 21.0, 15.0]         4.0        1  \n",
       "4  [5.0, 111.0, 66.0, 227.0, 103.0, 61.0]         4.0        1  "
      ]
     },
     "execution_count": 16,
     "metadata": {},
     "output_type": "execute_result"
    }
   ],
   "source": [
    "anns_df.head()"
   ]
  },
  {
   "cell_type": "code",
   "execution_count": 17,
   "id": "af90c9b8",
   "metadata": {},
   "outputs": [
    {
     "data": {
      "text/plain": [
       "[{'id': 1, 'name': 'Meniscus'},\n",
       " {'id': 2, 'name': 'ACL'},\n",
       " {'id': 3, 'name': 'PCL'},\n",
       " {'id': 4, 'name': 'Femoral Cartilage'},\n",
       " {'id': 5, 'name': 'Patellar Cartilage'},\n",
       " {'id': 6, 'name': 'Tibial Cartilage'}]"
      ]
     },
     "execution_count": 17,
     "metadata": {},
     "output_type": "execute_result"
    }
   ],
   "source": [
    "# Look at tissue types (Note that meniscus is 1)\n",
    "data['tissues']"
   ]
  },
  {
   "cell_type": "code",
   "execution_count": 20,
   "id": "4cacba72",
   "metadata": {},
   "outputs": [
    {
     "name": "stdout",
     "output_type": "stream",
     "text": [
      "Number of meniscus annotations: 30\n"
     ]
    },
    {
     "data": {
      "text/html": [
       "<div>\n",
       "<style scoped>\n",
       "    .dataframe tbody tr th:only-of-type {\n",
       "        vertical-align: middle;\n",
       "    }\n",
       "\n",
       "    .dataframe tbody tr th {\n",
       "        vertical-align: top;\n",
       "    }\n",
       "\n",
       "    .dataframe thead th {\n",
       "        text-align: right;\n",
       "    }\n",
       "</style>\n",
       "<table border=\"1\" class=\"dataframe\">\n",
       "  <thead>\n",
       "    <tr style=\"text-align: right;\">\n",
       "      <th></th>\n",
       "      <th>id</th>\n",
       "      <th>image_id</th>\n",
       "      <th>category_id</th>\n",
       "      <th>tissue_id</th>\n",
       "      <th>bbox</th>\n",
       "      <th>confidence</th>\n",
       "      <th>labeler</th>\n",
       "    </tr>\n",
       "  </thead>\n",
       "  <tbody>\n",
       "    <tr>\n",
       "      <th>1</th>\n",
       "      <td>2</td>\n",
       "      <td>19</td>\n",
       "      <td>5</td>\n",
       "      <td>1</td>\n",
       "      <td>[328.0, 295.0, 104.0, 6.0, 11.0, 12.0]</td>\n",
       "      <td>4.0</td>\n",
       "      <td>1</td>\n",
       "    </tr>\n",
       "    <tr>\n",
       "      <th>3</th>\n",
       "      <td>4</td>\n",
       "      <td>21</td>\n",
       "      <td>2</td>\n",
       "      <td>1</td>\n",
       "      <td>[355.0, 208.0, 41.0, 12.0, 21.0, 15.0]</td>\n",
       "      <td>4.0</td>\n",
       "      <td>1</td>\n",
       "    </tr>\n",
       "    <tr>\n",
       "      <th>5</th>\n",
       "      <td>6</td>\n",
       "      <td>32</td>\n",
       "      <td>2</td>\n",
       "      <td>1</td>\n",
       "      <td>[305.0, 280.0, 45.0, 6.0, 7.0, 10.0]</td>\n",
       "      <td>2.0</td>\n",
       "      <td>1</td>\n",
       "    </tr>\n",
       "    <tr>\n",
       "      <th>9</th>\n",
       "      <td>10</td>\n",
       "      <td>4</td>\n",
       "      <td>5</td>\n",
       "      <td>1</td>\n",
       "      <td>[293.0, 335.0, 110.0, 6.0, 22.0, 15.0]</td>\n",
       "      <td>3.0</td>\n",
       "      <td>1</td>\n",
       "    </tr>\n",
       "    <tr>\n",
       "      <th>14</th>\n",
       "      <td>15</td>\n",
       "      <td>14</td>\n",
       "      <td>8</td>\n",
       "      <td>1</td>\n",
       "      <td>[305.0, 219.0, 89.0, 14.0, 54.0, 15.0]</td>\n",
       "      <td>4.0</td>\n",
       "      <td>1</td>\n",
       "    </tr>\n",
       "  </tbody>\n",
       "</table>\n",
       "</div>"
      ],
      "text/plain": [
       "    id  image_id  category_id  tissue_id  \\\n",
       "1    2        19            5          1   \n",
       "3    4        21            2          1   \n",
       "5    6        32            2          1   \n",
       "9   10         4            5          1   \n",
       "14  15        14            8          1   \n",
       "\n",
       "                                      bbox  confidence  labeler  \n",
       "1   [328.0, 295.0, 104.0, 6.0, 11.0, 12.0]         4.0        1  \n",
       "3   [355.0, 208.0, 41.0, 12.0, 21.0, 15.0]         4.0        1  \n",
       "5     [305.0, 280.0, 45.0, 6.0, 7.0, 10.0]         2.0        1  \n",
       "9   [293.0, 335.0, 110.0, 6.0, 22.0, 15.0]         3.0        1  \n",
       "14  [305.0, 219.0, 89.0, 14.0, 54.0, 15.0]         4.0        1  "
      ]
     },
     "execution_count": 20,
     "metadata": {},
     "output_type": "execute_result"
    }
   ],
   "source": [
    "# filter by meniscus\n",
    "menisc_anns_df = anns_df[anns_df['tissue_id'] == 1]\n",
    "print(f'Number of meniscus annotations: {len(menisc_anns_df)}')\n",
    "menisc_anns_df.head()"
   ]
  },
  {
   "cell_type": "code",
   "execution_count": 21,
   "id": "cab03ec3",
   "metadata": {},
   "outputs": [],
   "source": [
    "# get list of image ids with meniscus pathology\n",
    "pathology_im_ids = menisc_anns_df['image_id'].to_numpy()"
   ]
  },
  {
   "cell_type": "code",
   "execution_count": 22,
   "id": "27abdb04",
   "metadata": {},
   "outputs": [
    {
     "data": {
      "text/plain": [
       "array([19, 21, 32,  4, 14, 14, 20, 20, 26, 30,  8, 10, 10, 15, 15, 15, 27,\n",
       "       27, 27, 29, 29, 29,  2,  2,  6,  6,  6, 23, 25,  7])"
      ]
     },
     "execution_count": 22,
     "metadata": {},
     "output_type": "execute_result"
    }
   ],
   "source": [
    "pathology_im_ids"
   ]
  },
  {
   "cell_type": "code",
   "execution_count": 23,
   "id": "5ff18a54",
   "metadata": {},
   "outputs": [],
   "source": [
    "# list of all image ids\n",
    "all_ims = ims_df['id'].to_numpy()"
   ]
  },
  {
   "cell_type": "code",
   "execution_count": 24,
   "id": "ee7b4dc8",
   "metadata": {},
   "outputs": [
    {
     "data": {
      "text/plain": [
       "array([ 1,  2,  3,  4,  5,  6,  7,  8,  9, 10, 11, 12, 13, 14, 15, 16, 17,\n",
       "       18, 19, 20, 21, 22, 23, 24, 25, 26, 27, 28, 29, 30, 31, 32, 33])"
      ]
     },
     "execution_count": 24,
     "metadata": {},
     "output_type": "execute_result"
    }
   ],
   "source": [
    "all_ims"
   ]
  },
  {
   "cell_type": "code",
   "execution_count": 25,
   "id": "b7612b8a",
   "metadata": {},
   "outputs": [],
   "source": [
    "# Initialise a DataFrame with image IDs and zero counts\n",
    "pathology_count_df = pd.DataFrame({'image_id': all_ims, 'num_pathologies': 0})\n",
    "\n",
    "# Add count to image for each pathology found in the pathology list\n",
    "for pid in pathology_im_ids:\n",
    "    if pid in pathology_count_df['image_id'].values:\n",
    "        pathology_count_df.loc[pathology_count_df['image_id'] == pid, 'num_pathologies'] += 1"
   ]
  },
  {
   "cell_type": "code",
   "execution_count": 27,
   "id": "15151d3a",
   "metadata": {},
   "outputs": [
    {
     "data": {
      "text/html": [
       "<div>\n",
       "<style scoped>\n",
       "    .dataframe tbody tr th:only-of-type {\n",
       "        vertical-align: middle;\n",
       "    }\n",
       "\n",
       "    .dataframe tbody tr th {\n",
       "        vertical-align: top;\n",
       "    }\n",
       "\n",
       "    .dataframe thead th {\n",
       "        text-align: right;\n",
       "    }\n",
       "</style>\n",
       "<table border=\"1\" class=\"dataframe\">\n",
       "  <thead>\n",
       "    <tr style=\"text-align: right;\">\n",
       "      <th></th>\n",
       "      <th>image_id</th>\n",
       "      <th>num_pathologies</th>\n",
       "    </tr>\n",
       "  </thead>\n",
       "  <tbody>\n",
       "    <tr>\n",
       "      <th>0</th>\n",
       "      <td>1</td>\n",
       "      <td>0</td>\n",
       "    </tr>\n",
       "    <tr>\n",
       "      <th>1</th>\n",
       "      <td>2</td>\n",
       "      <td>2</td>\n",
       "    </tr>\n",
       "    <tr>\n",
       "      <th>2</th>\n",
       "      <td>3</td>\n",
       "      <td>0</td>\n",
       "    </tr>\n",
       "    <tr>\n",
       "      <th>3</th>\n",
       "      <td>4</td>\n",
       "      <td>1</td>\n",
       "    </tr>\n",
       "    <tr>\n",
       "      <th>4</th>\n",
       "      <td>5</td>\n",
       "      <td>0</td>\n",
       "    </tr>\n",
       "  </tbody>\n",
       "</table>\n",
       "</div>"
      ],
      "text/plain": [
       "   image_id  num_pathologies\n",
       "0         1                0\n",
       "1         2                2\n",
       "2         3                0\n",
       "3         4                1\n",
       "4         5                0"
      ]
     },
     "execution_count": 27,
     "metadata": {},
     "output_type": "execute_result"
    }
   ],
   "source": [
    "pathology_count_df.head()"
   ]
  },
  {
   "cell_type": "markdown",
   "id": "7bcdfef7",
   "metadata": {},
   "source": [
    "# For each path, load seg GT and prediction to get dice score"
   ]
  },
  {
   "cell_type": "code",
   "execution_count": 37,
   "id": "a41be07f",
   "metadata": {},
   "outputs": [
    {
     "name": "stdout",
     "output_type": "stream",
     "text": [
      "0.7795218229293823\n",
      "0.7524562478065491\n",
      "0.7227641344070435\n",
      "0.8031360507011414\n",
      "0.7568774223327637\n",
      "0.6654624342918396\n",
      "0.7282947301864624\n",
      "0.7841781377792358\n",
      "0.7362043261528015\n",
      "0.652190625667572\n",
      "0.7848562002182007\n",
      "0.6789541244506836\n",
      "0.63204026222229\n",
      "0.7975828051567078\n",
      "0.7734728455543518\n",
      "0.8035393953323364\n",
      "0.7650856375694275\n",
      "0.6800203919410706\n",
      "0.7754375338554382\n",
      "0.7354987263679504\n",
      "0.7621867060661316\n",
      "0.7879033088684082\n",
      "0.7790279984474182\n",
      "0.7045125365257263\n",
      "0.7585326433181763\n",
      "0.7566063404083252\n",
      "0.7067292928695679\n",
      "0.7187729477882385\n",
      "0.7185410261154175\n",
      "0.7300627827644348\n",
      "0.6538073420524597\n",
      "0.7118544578552246\n",
      "0.7674567103385925\n",
      "Mean Dice Coefficient: 0.7382899378285264\n"
     ]
    }
   ],
   "source": [
    "# Loop through paths, load segmentation ground truth and prediction, calculate dice coefficient\n",
    "dice_scores = []\n",
    "for im_id in all_ims:\n",
    "    # Get the filename\n",
    "    filename = id_to_filename[im_id]\n",
    "\n",
    "    # Load the ground truth mask\n",
    "    menisc_mask = get_meniscus_mask(image_dir_path, filename)\n",
    "\n",
    "    # Load the prediction mask\n",
    "    # first take off .h5 extension and add .npy\n",
    "    filename = filename[:-3] + '.npy'\n",
    "    full_pred_path = os.path.join(pred_path, filename)\n",
    "    pred_mask = np.load(full_pred_path)\n",
    "\n",
    "    # Calculate the dice coefficient\n",
    "    dice = dice_coefficient(torch.tensor(menisc_mask), torch.tensor(pred_mask))\n",
    "\n",
    "    # Append to list\n",
    "    dice_scores.append(dice)\n",
    "\n",
    "    print(dice)\n",
    "\n",
    "print(f\"Mean Dice Coefficient: {np.mean(dice_scores)}\")\n",
    "\n",
    "# Add dice scores to pathology_count_df\n",
    "pathology_count_df['dice'] = dice_scores"
   ]
  },
  {
   "cell_type": "code",
   "execution_count": 38,
   "id": "7d0010f0",
   "metadata": {},
   "outputs": [
    {
     "data": {
      "text/html": [
       "<div>\n",
       "<style scoped>\n",
       "    .dataframe tbody tr th:only-of-type {\n",
       "        vertical-align: middle;\n",
       "    }\n",
       "\n",
       "    .dataframe tbody tr th {\n",
       "        vertical-align: top;\n",
       "    }\n",
       "\n",
       "    .dataframe thead th {\n",
       "        text-align: right;\n",
       "    }\n",
       "</style>\n",
       "<table border=\"1\" class=\"dataframe\">\n",
       "  <thead>\n",
       "    <tr style=\"text-align: right;\">\n",
       "      <th></th>\n",
       "      <th>image_id</th>\n",
       "      <th>num_pathologies</th>\n",
       "      <th>dice</th>\n",
       "    </tr>\n",
       "  </thead>\n",
       "  <tbody>\n",
       "    <tr>\n",
       "      <th>0</th>\n",
       "      <td>1</td>\n",
       "      <td>0</td>\n",
       "      <td>0.779522</td>\n",
       "    </tr>\n",
       "    <tr>\n",
       "      <th>1</th>\n",
       "      <td>2</td>\n",
       "      <td>2</td>\n",
       "      <td>0.752456</td>\n",
       "    </tr>\n",
       "    <tr>\n",
       "      <th>2</th>\n",
       "      <td>3</td>\n",
       "      <td>0</td>\n",
       "      <td>0.722764</td>\n",
       "    </tr>\n",
       "    <tr>\n",
       "      <th>3</th>\n",
       "      <td>4</td>\n",
       "      <td>1</td>\n",
       "      <td>0.803136</td>\n",
       "    </tr>\n",
       "    <tr>\n",
       "      <th>4</th>\n",
       "      <td>5</td>\n",
       "      <td>0</td>\n",
       "      <td>0.756877</td>\n",
       "    </tr>\n",
       "  </tbody>\n",
       "</table>\n",
       "</div>"
      ],
      "text/plain": [
       "   image_id  num_pathologies      dice\n",
       "0         1                0  0.779522\n",
       "1         2                2  0.752456\n",
       "2         3                0  0.722764\n",
       "3         4                1  0.803136\n",
       "4         5                0  0.756877"
      ]
     },
     "execution_count": 38,
     "metadata": {},
     "output_type": "execute_result"
    }
   ],
   "source": [
    "pathology_count_df.head()"
   ]
  },
  {
   "cell_type": "code",
   "execution_count": 39,
   "id": "e2db6c60",
   "metadata": {},
   "outputs": [],
   "source": [
    "ims_with_pathology = pathology_count_df[pathology_count_df['num_pathologies'] > 0].reset_index(drop=True)\n",
    "ims_without_pathology = pathology_count_df[pathology_count_df['num_pathologies'] == 0].reset_index(drop=True)"
   ]
  },
  {
   "cell_type": "code",
   "execution_count": 43,
   "id": "61eb7ec6",
   "metadata": {},
   "outputs": [
    {
     "name": "stdout",
     "output_type": "stream",
     "text": [
      "All Images with Pathology:\n"
     ]
    },
    {
     "data": {
      "text/html": [
       "<div>\n",
       "<style scoped>\n",
       "    .dataframe tbody tr th:only-of-type {\n",
       "        vertical-align: middle;\n",
       "    }\n",
       "\n",
       "    .dataframe tbody tr th {\n",
       "        vertical-align: top;\n",
       "    }\n",
       "\n",
       "    .dataframe thead th {\n",
       "        text-align: right;\n",
       "    }\n",
       "</style>\n",
       "<table border=\"1\" class=\"dataframe\">\n",
       "  <thead>\n",
       "    <tr style=\"text-align: right;\">\n",
       "      <th></th>\n",
       "      <th>image_id</th>\n",
       "      <th>num_pathologies</th>\n",
       "      <th>dice</th>\n",
       "    </tr>\n",
       "  </thead>\n",
       "  <tbody>\n",
       "    <tr>\n",
       "      <th>0</th>\n",
       "      <td>2</td>\n",
       "      <td>2</td>\n",
       "      <td>0.752456</td>\n",
       "    </tr>\n",
       "    <tr>\n",
       "      <th>1</th>\n",
       "      <td>4</td>\n",
       "      <td>1</td>\n",
       "      <td>0.803136</td>\n",
       "    </tr>\n",
       "    <tr>\n",
       "      <th>2</th>\n",
       "      <td>6</td>\n",
       "      <td>3</td>\n",
       "      <td>0.665462</td>\n",
       "    </tr>\n",
       "    <tr>\n",
       "      <th>3</th>\n",
       "      <td>7</td>\n",
       "      <td>1</td>\n",
       "      <td>0.728295</td>\n",
       "    </tr>\n",
       "    <tr>\n",
       "      <th>4</th>\n",
       "      <td>8</td>\n",
       "      <td>1</td>\n",
       "      <td>0.784178</td>\n",
       "    </tr>\n",
       "    <tr>\n",
       "      <th>5</th>\n",
       "      <td>10</td>\n",
       "      <td>2</td>\n",
       "      <td>0.652191</td>\n",
       "    </tr>\n",
       "    <tr>\n",
       "      <th>6</th>\n",
       "      <td>14</td>\n",
       "      <td>2</td>\n",
       "      <td>0.797583</td>\n",
       "    </tr>\n",
       "    <tr>\n",
       "      <th>7</th>\n",
       "      <td>15</td>\n",
       "      <td>3</td>\n",
       "      <td>0.773473</td>\n",
       "    </tr>\n",
       "    <tr>\n",
       "      <th>8</th>\n",
       "      <td>19</td>\n",
       "      <td>1</td>\n",
       "      <td>0.775438</td>\n",
       "    </tr>\n",
       "    <tr>\n",
       "      <th>9</th>\n",
       "      <td>20</td>\n",
       "      <td>2</td>\n",
       "      <td>0.735499</td>\n",
       "    </tr>\n",
       "    <tr>\n",
       "      <th>10</th>\n",
       "      <td>21</td>\n",
       "      <td>1</td>\n",
       "      <td>0.762187</td>\n",
       "    </tr>\n",
       "    <tr>\n",
       "      <th>11</th>\n",
       "      <td>23</td>\n",
       "      <td>1</td>\n",
       "      <td>0.779028</td>\n",
       "    </tr>\n",
       "    <tr>\n",
       "      <th>12</th>\n",
       "      <td>25</td>\n",
       "      <td>1</td>\n",
       "      <td>0.758533</td>\n",
       "    </tr>\n",
       "    <tr>\n",
       "      <th>13</th>\n",
       "      <td>26</td>\n",
       "      <td>1</td>\n",
       "      <td>0.756606</td>\n",
       "    </tr>\n",
       "    <tr>\n",
       "      <th>14</th>\n",
       "      <td>27</td>\n",
       "      <td>3</td>\n",
       "      <td>0.706729</td>\n",
       "    </tr>\n",
       "    <tr>\n",
       "      <th>15</th>\n",
       "      <td>29</td>\n",
       "      <td>3</td>\n",
       "      <td>0.718541</td>\n",
       "    </tr>\n",
       "    <tr>\n",
       "      <th>16</th>\n",
       "      <td>30</td>\n",
       "      <td>1</td>\n",
       "      <td>0.730063</td>\n",
       "    </tr>\n",
       "    <tr>\n",
       "      <th>17</th>\n",
       "      <td>32</td>\n",
       "      <td>1</td>\n",
       "      <td>0.711854</td>\n",
       "    </tr>\n",
       "  </tbody>\n",
       "</table>\n",
       "</div>"
      ],
      "text/plain": [
       "    image_id  num_pathologies      dice\n",
       "0          2                2  0.752456\n",
       "1          4                1  0.803136\n",
       "2          6                3  0.665462\n",
       "3          7                1  0.728295\n",
       "4          8                1  0.784178\n",
       "5         10                2  0.652191\n",
       "6         14                2  0.797583\n",
       "7         15                3  0.773473\n",
       "8         19                1  0.775438\n",
       "9         20                2  0.735499\n",
       "10        21                1  0.762187\n",
       "11        23                1  0.779028\n",
       "12        25                1  0.758533\n",
       "13        26                1  0.756606\n",
       "14        27                3  0.706729\n",
       "15        29                3  0.718541\n",
       "16        30                1  0.730063\n",
       "17        32                1  0.711854"
      ]
     },
     "execution_count": 43,
     "metadata": {},
     "output_type": "execute_result"
    }
   ],
   "source": [
    "print(\"All Images with Pathology:\")\n",
    "ims_with_pathology"
   ]
  },
  {
   "cell_type": "code",
   "execution_count": 44,
   "id": "f9904278",
   "metadata": {},
   "outputs": [
    {
     "name": "stdout",
     "output_type": "stream",
     "text": [
      "All Images without Pathology:\n"
     ]
    },
    {
     "data": {
      "text/html": [
       "<div>\n",
       "<style scoped>\n",
       "    .dataframe tbody tr th:only-of-type {\n",
       "        vertical-align: middle;\n",
       "    }\n",
       "\n",
       "    .dataframe tbody tr th {\n",
       "        vertical-align: top;\n",
       "    }\n",
       "\n",
       "    .dataframe thead th {\n",
       "        text-align: right;\n",
       "    }\n",
       "</style>\n",
       "<table border=\"1\" class=\"dataframe\">\n",
       "  <thead>\n",
       "    <tr style=\"text-align: right;\">\n",
       "      <th></th>\n",
       "      <th>image_id</th>\n",
       "      <th>num_pathologies</th>\n",
       "      <th>dice</th>\n",
       "    </tr>\n",
       "  </thead>\n",
       "  <tbody>\n",
       "    <tr>\n",
       "      <th>0</th>\n",
       "      <td>1</td>\n",
       "      <td>0</td>\n",
       "      <td>0.779522</td>\n",
       "    </tr>\n",
       "    <tr>\n",
       "      <th>1</th>\n",
       "      <td>3</td>\n",
       "      <td>0</td>\n",
       "      <td>0.722764</td>\n",
       "    </tr>\n",
       "    <tr>\n",
       "      <th>2</th>\n",
       "      <td>5</td>\n",
       "      <td>0</td>\n",
       "      <td>0.756877</td>\n",
       "    </tr>\n",
       "    <tr>\n",
       "      <th>3</th>\n",
       "      <td>9</td>\n",
       "      <td>0</td>\n",
       "      <td>0.736204</td>\n",
       "    </tr>\n",
       "    <tr>\n",
       "      <th>4</th>\n",
       "      <td>11</td>\n",
       "      <td>0</td>\n",
       "      <td>0.784856</td>\n",
       "    </tr>\n",
       "    <tr>\n",
       "      <th>5</th>\n",
       "      <td>12</td>\n",
       "      <td>0</td>\n",
       "      <td>0.678954</td>\n",
       "    </tr>\n",
       "    <tr>\n",
       "      <th>6</th>\n",
       "      <td>13</td>\n",
       "      <td>0</td>\n",
       "      <td>0.632040</td>\n",
       "    </tr>\n",
       "    <tr>\n",
       "      <th>7</th>\n",
       "      <td>16</td>\n",
       "      <td>0</td>\n",
       "      <td>0.803539</td>\n",
       "    </tr>\n",
       "    <tr>\n",
       "      <th>8</th>\n",
       "      <td>17</td>\n",
       "      <td>0</td>\n",
       "      <td>0.765086</td>\n",
       "    </tr>\n",
       "    <tr>\n",
       "      <th>9</th>\n",
       "      <td>18</td>\n",
       "      <td>0</td>\n",
       "      <td>0.680020</td>\n",
       "    </tr>\n",
       "    <tr>\n",
       "      <th>10</th>\n",
       "      <td>22</td>\n",
       "      <td>0</td>\n",
       "      <td>0.787903</td>\n",
       "    </tr>\n",
       "    <tr>\n",
       "      <th>11</th>\n",
       "      <td>24</td>\n",
       "      <td>0</td>\n",
       "      <td>0.704513</td>\n",
       "    </tr>\n",
       "    <tr>\n",
       "      <th>12</th>\n",
       "      <td>28</td>\n",
       "      <td>0</td>\n",
       "      <td>0.718773</td>\n",
       "    </tr>\n",
       "    <tr>\n",
       "      <th>13</th>\n",
       "      <td>31</td>\n",
       "      <td>0</td>\n",
       "      <td>0.653807</td>\n",
       "    </tr>\n",
       "    <tr>\n",
       "      <th>14</th>\n",
       "      <td>33</td>\n",
       "      <td>0</td>\n",
       "      <td>0.767457</td>\n",
       "    </tr>\n",
       "  </tbody>\n",
       "</table>\n",
       "</div>"
      ],
      "text/plain": [
       "    image_id  num_pathologies      dice\n",
       "0          1                0  0.779522\n",
       "1          3                0  0.722764\n",
       "2          5                0  0.756877\n",
       "3          9                0  0.736204\n",
       "4         11                0  0.784856\n",
       "5         12                0  0.678954\n",
       "6         13                0  0.632040\n",
       "7         16                0  0.803539\n",
       "8         17                0  0.765086\n",
       "9         18                0  0.680020\n",
       "10        22                0  0.787903\n",
       "11        24                0  0.704513\n",
       "12        28                0  0.718773\n",
       "13        31                0  0.653807\n",
       "14        33                0  0.767457"
      ]
     },
     "execution_count": 44,
     "metadata": {},
     "output_type": "execute_result"
    }
   ],
   "source": [
    "print(\"All Images without Pathology:\")\n",
    "ims_without_pathology"
   ]
  },
  {
   "cell_type": "code",
   "execution_count": 46,
   "id": "513f2a43",
   "metadata": {},
   "outputs": [
    {
     "name": "stdout",
     "output_type": "stream",
     "text": [
      "Mean Dice Coefficient for Images with Pathology: 0.7439584102895525 ± 0.0420221477759853\n",
      "Mean Dice Coefficient for Images without Pathology: 0.731487770875295 ± 0.05272383128592712\n"
     ]
    }
   ],
   "source": [
    "# Get mean and std of dice scores for images with pathology\n",
    "mean_dice_pathology = ims_with_pathology['dice'].mean()\n",
    "std_dice_pathology = ims_with_pathology['dice'].std()\n",
    "print(f\"Mean Dice Coefficient for Images with Pathology: {mean_dice_pathology} ± {std_dice_pathology}\")\n",
    "\n",
    "# Get mean and std of dice scores for images without pathology\n",
    "mean_dice_no_pathology = ims_without_pathology['dice'].mean()\n",
    "std_dice_no_pathology = ims_without_pathology['dice'].std()\n",
    "print(f\"Mean Dice Coefficient for Images without Pathology: {mean_dice_no_pathology} ± {std_dice_no_pathology}\")"
   ]
  },
  {
   "cell_type": "code",
   "execution_count": 53,
   "id": "90646c63",
   "metadata": {},
   "outputs": [
    {
     "data": {
      "image/png": "[encoded data removed]",
      "text/plain": [
       "<Figure size 1000x600 with 1 Axes>"
      ]
     },
     "metadata": {},
     "output_type": "display_data"
    }
   ],
   "source": [
    "# Plot histograms of dice scores with and without pathology for comparison\n",
    "plt.figure(figsize=(10, 6))\n",
    "plt.hist(ims_with_pathology['dice'], bins=10, alpha=0.5, color='blue', label='With Pathology')\n",
    "plt.hist(ims_without_pathology['dice'], bins=10, alpha=0.5, color='red', label='Without Pathology')\n",
    "plt.xlabel('Dice Coefficient')\n",
    "plt.ylabel('Frequency')\n",
    "plt.title('Dice Coefficient Distribution for Images with and without Pathology')\n",
    "plt.legend()\n",
    "plt.show()"
   ]
  },
  {
   "cell_type": "code",
   "execution_count": 58,
   "id": "3920a94b",
   "metadata": {},
   "outputs": [
    {
     "name": "stderr",
     "output_type": "stream",
     "text": [
      "/Users/olivermills/anaconda3/lib/python3.9/site-packages/seaborn/_oldcore.py:1498: FutureWarning: is_categorical_dtype is deprecated and will be removed in a future version. Use isinstance(dtype, CategoricalDtype) instead\n",
      "  if pd.api.types.is_categorical_dtype(vector):\n",
      "/Users/olivermills/anaconda3/lib/python3.9/site-packages/seaborn/_oldcore.py:1498: FutureWarning: is_categorical_dtype is deprecated and will be removed in a future version. Use isinstance(dtype, CategoricalDtype) instead\n",
      "  if pd.api.types.is_categorical_dtype(vector):\n",
      "/Users/olivermills/anaconda3/lib/python3.9/site-packages/seaborn/_oldcore.py:1498: FutureWarning: is_categorical_dtype is deprecated and will be removed in a future version. Use isinstance(dtype, CategoricalDtype) instead\n",
      "  if pd.api.types.is_categorical_dtype(vector):\n"
     ]
    },
    {
     "data": {
      "image/png": "[encoded data removed]",
      "text/plain": [
       "<Figure size 1000x600 with 1 Axes>"
      ]
     },
     "metadata": {},
     "output_type": "display_data"
    }
   ],
   "source": [
    "# plot violin plots of with and without pathology using seaborn\n",
    "import seaborn as sns\n",
    "\n",
    "plt.figure(figsize=(10, 6))\n",
    "sns.violinplot(data=pathology_count_df, x='num_pathologies', y='dice')\n",
    "plt.xlabel('Number of Pathologies')\n",
    "plt.ylabel('Dice Coefficient')\n",
    "plt.title('Dice Coefficient Distribution for Images with and without Pathology')\n",
    "\n",
    "# save plot\n",
    "plt.savefig('dice_vs_pathology_valid.png')\n",
    "plt.show()"
   ]
  },
  {
   "cell_type": "code",
   "execution_count": 69,
   "id": "84db8c0f",
   "metadata": {},
   "outputs": [
    {
     "name": "stdout",
     "output_type": "stream",
     "text": [
      "t-statistic: 0.7407484661060189, p-value: 0.46533378995890673\n",
      "U-statistic: 146.0, p-value: 0.7042213495481418\n"
     ]
    }
   ],
   "source": [
    "# check dice scores to see if they are consistent statistically\n",
    "# use t-test for this\n",
    "from scipy.stats import ttest_ind, mannwhitneyu\n",
    "\n",
    "t_stat, p_val = ttest_ind(ims_with_pathology['dice'], ims_without_pathology['dice'], equal_var=False)\n",
    "print(f\"t-statistic: {t_stat}, p-value: {p_val}\")\n",
    "\n",
    "# Mann-Whitney U test\n",
    "u_stat, p_val = mannwhitneyu(ims_with_pathology['dice'], ims_without_pathology['dice'])\n",
    "print(f\"U-statistic: {u_stat}, p-value: {p_val}\")"
   ]
  },
  {
   "cell_type": "markdown",
   "id": "fdceb039",
   "metadata": {},
   "source": [
    "### No meaningful difference in dice scores "
   ]
  },
  {
   "cell_type": "markdown",
   "id": "33923f63",
   "metadata": {},
   "source": [
    "# Now look at region of ground truth that contains pathology"
   ]
  },
  {
   "cell_type": "code",
   "execution_count": 73,
   "id": "c1d92dd6",
   "metadata": {},
   "outputs": [
    {
     "data": {
      "text/plain": [
       "id                                                  2\n",
       "image_id                                           19\n",
       "category_id                                         5\n",
       "tissue_id                                           1\n",
       "bbox           [328.0, 295.0, 104.0, 6.0, 11.0, 12.0]\n",
       "confidence                                        4.0\n",
       "labeler                                             1\n",
       "Name: 1, dtype: object"
      ]
     },
     "execution_count": 73,
     "metadata": {},
     "output_type": "execute_result"
    }
   ],
   "source": [
    "# pick first annotation as example\n",
    "example = menisc_anns_df.iloc[0]\n",
    "example"
   ]
  },
  {
   "cell_type": "code",
   "execution_count": 75,
   "id": "528b9472",
   "metadata": {},
   "outputs": [],
   "source": [
    "example_im_id = example['image_id']\n",
    "x_min, y_min, z_min, width, height, depth = example['bbox']\n",
    "\n",
    "example_gt_mask = get_meniscus_mask(image_dir_path, id_to_filename[example_im_id])\n",
    "example_pred_mask = np.load(os.path.join(pred_path, id_to_filename[example_im_id][:-3] + '.npy'))"
   ]
  },
  {
   "cell_type": "code",
   "execution_count": null,
   "id": "f062e4dc",
   "metadata": {},
   "outputs": [],
   "source": [
    "# plot the masks side by side within the bounding box region, where slice is taken from the middle\n",
    "slicenum = z_min + depth // 2\n",
    "\n",
    "fig, ax = plt.subplots(1, 2, figsize=(10, 5))\n",
    "\n",
    "# Plot the ground truth mask\n",
    "ax[0].imshow(example_gt_mask[x_min:x_min+width, y_min:y_min+height, slicenum], cmap='gray')\n",
    "ax[0].set_title('Ground Truth')\n",
    "\n",
    "# Plot the prediction mask\n",
    "ax[1].imshow(example_pred_mask[z_min, y_min:y_min+height, x_min:x_min+width, slicenum], cmap='gray')\n",
    "ax[1].set_title('Prediction')\n"
   ]
  },
  {
   "cell_type": "code",
   "execution_count": null,
   "id": "ff2e1a87",
   "metadata": {},
   "outputs": [],
   "source": []
  },
  {
   "cell_type": "markdown",
   "id": "7567a8a5",
   "metadata": {},
   "source": [
    "# "
   ]
  }
 ],
 "metadata": {
  "kernelspec": {
   "display_name": "Python 3 (ipykernel)",
   "language": "python",
   "name": "python3"
  },
  "language_info": {
   "codemirror_mode": {
    "name": "ipython",
    "version": 3
   },
   "file_extension": ".py",
   "mimetype": "text/x-python",
   "name": "python",
   "nbconvert_exporter": "python",
   "pygments_lexer": "ipython3",
   "version": "3.9.18"
  }
 },
 "nbformat": 4,
 "nbformat_minor": 5
}
