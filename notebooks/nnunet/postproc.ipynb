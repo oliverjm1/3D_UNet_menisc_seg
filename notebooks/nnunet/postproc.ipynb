{
 "cells": [
  {
   "cell_type": "markdown",
   "metadata": {},
   "source": [
    "# Post-processing of nnUNet predictions of SKM-TEA data\n",
    "## First check connected components"
   ]
  },
  {
   "cell_type": "code",
   "execution_count": 11,
   "metadata": {},
   "outputs": [
    {
     "ename": "",
     "evalue": "",
     "output_type": "error",
     "traceback": [
      "\u001b[1;31mFailed to interrupt the Kernel. \n",
      "\u001b[1;31mNo kernel associated with the notebook. \n",
      "\u001b[1;31mView Jupyter <a href='command:jupyter.viewOutput'>log</a> for further details."
     ]
    }
   ],
   "source": [
    "# imports\n",
    "import cc3d\n",
    "import json\n",
    "import os\n",
    "import numpy as np\n",
    "import pandas as pd\n",
    "import matplotlib.pyplot as plt\n",
    "import seaborn as sns\n",
    "import SimpleITK as sitk"
   ]
  },
  {
   "cell_type": "code",
   "execution_count": 2,
   "metadata": {},
   "outputs": [],
   "source": [
    "from acvl_utils.morphology.morphology_helper import generic_filter_components, remove_components_cc3d, cc3d_label_with_component_sizes"
   ]
  },
  {
   "cell_type": "code",
   "execution_count": 3,
   "metadata": {},
   "outputs": [],
   "source": [
    "# path to predicted data\n",
    "data_path = '../../../nnUNet_data/nnUNet_raw/Dataset361_Menisci/'"
   ]
  },
  {
   "cell_type": "code",
   "execution_count": 4,
   "metadata": {},
   "outputs": [],
   "source": [
    "# Let's look at the ground truth data\n",
    "# path to ground truth data\n",
    "gt_path = data_path + 'labels_all_skmtea/'"
   ]
  },
  {
   "cell_type": "code",
   "execution_count": 10,
   "metadata": {},
   "outputs": [],
   "source": [
    "# get list of files in the directory\n",
    "gt_files = os.listdir(gt_path)\n",
    "gt_files.sort()"
   ]
  },
  {
   "cell_type": "code",
   "execution_count": null,
   "metadata": {},
   "outputs": [],
   "source": [
    "# load in each image, and return labels and properties\n",
    "for file in gt_files"
   ]
  }
 ],
 "metadata": {
  "kernelspec": {
   "display_name": "Python (nnunet)",
   "language": "python",
   "name": "nnunet"
  }
 },
 "nbformat": 4,
 "nbformat_minor": 2
}
