{
 "cells": [
  {
   "cell_type": "code",
   "execution_count": 1,
   "metadata": {},
   "outputs": [],
   "source": [
    "import h5py\n",
    "import numpy as np\n",
    "import matplotlib.pyplot as plt"
   ]
  },
  {
   "cell_type": "code",
   "execution_count": 6,
   "metadata": {},
   "outputs": [],
   "source": [
    "fname_img = './valid_001_V00.im'\n",
    "fname_seg = './valid_001_V00.seg'"
   ]
  },
  {
   "cell_type": "markdown",
   "metadata": {},
   "source": [
    "**Plot some successive slices from the morphological image**"
   ]
  },
  {
   "cell_type": "code",
   "execution_count": null,
   "metadata": {},
   "outputs": [],
   "source": [
    "with h5py.File(fname_img,'r') as hf:\n",
    "    img = np.array(hf['data'])\n",
    "\n",
    "num_subplots = 5\n",
    "plt.subplots(num_subplots, num_subplots, figsize = (num_subplots*4, num_subplots*4))\n",
    "\n",
    "for cnt, slnum in enumerate(range(0,img.shape[-1],img.shape[-1]//num_subplots**2)):\n",
    "\n",
    "    if cnt < num_subplots**2:\n",
    "    \n",
    "        plt.subplot(num_subplots, num_subplots, cnt+1)\n",
    "        plt.imshow(img[...,slnum], vmin = 0, vmax = 0.005, cmap = 'gray')\n",
    "        plt.title('Slice {}'.format(slnum), fontsize= 20)\n",
    "        plt.axis('off')\n",
    "    \n",
    "plt.tight_layout()\n",
    "plt.show()"
   ]
  },
  {
   "cell_type": "markdown",
   "metadata": {},
   "source": [
    "**Plot a mean of all six segmentations provided in this dataset**"
   ]
  },
  {
   "cell_type": "code",
   "execution_count": null,
   "metadata": {},
   "outputs": [],
   "source": [
    "fig_captions = ['Femoral Cart.', 'Medial Tibial Cart.', 'Lateral Tibial Cart.', 'Patellar Cart.', 'Lateral Meniscus', 'Medial Meniscus']\n",
    "\n",
    "with h5py.File(fname_seg,'r') as hf:\n",
    "    seg = np.array(hf['data'])\n",
    "    \n",
    "nrows = 2\n",
    "ncols = 3\n",
    "seg_sums = np.mean(seg, 2)\n",
    "plt.subplots(nrows, ncols, figsize = (ncols*4, nrows*4))\n",
    "\n",
    "for cnt, tis_num in enumerate(range(0,6)):\n",
    "    plt.subplot(nrows, ncols, cnt+1)\n",
    "    plt.imshow(seg_sums[...,tis_num], cmap = 'gray')\n",
    "    plt.title('{} Mask'.format(fig_captions[cnt]), fontsize = 20)\n",
    "    plt.axis('off')\n",
    "    \n",
    "plt.tight_layout()\n",
    "plt.show()"
   ]
  },
  {
   "cell_type": "markdown",
   "metadata": {},
   "source": [
    "**Print out dimensions of dataset**"
   ]
  },
  {
   "cell_type": "code",
   "execution_count": 49,
   "metadata": {},
   "outputs": [
    {
     "name": "stdout",
     "output_type": "stream",
     "text": [
      "Size of the image file is (384, 384, 160)\n",
      "Size of the mask file is (384, 384, 160, 6)\n"
     ]
    }
   ],
   "source": [
    "print('Size of the image file is {}'.format(img.shape))\n",
    "print('Size of the mask file is {}'.format(seg.shape))"
   ]
  },
  {
   "cell_type": "code",
   "execution_count": null,
   "metadata": {},
   "outputs": [],
   "source": []
  }
 ],
 "metadata": {
  "kernelspec": {
   "display_name": "Python 3",
   "language": "python",
   "name": "python3"
  },
  "language_info": {
   "codemirror_mode": {
    "name": "ipython",
    "version": 3
   },
   "file_extension": ".py",
   "mimetype": "text/x-python",
   "name": "python",
   "nbconvert_exporter": "python",
   "pygments_lexer": "ipython3",
   "version": "3.6.1"
  }
 },
 "nbformat": 4,
 "nbformat_minor": 2
}
