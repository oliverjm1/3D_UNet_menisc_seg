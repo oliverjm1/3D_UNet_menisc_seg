{
 "cells": [
  {
   "cell_type": "markdown",
   "metadata": {},
   "source": [
    "## Go through IWOAI data and correct any errors\n",
    "\n",
    "### I know that there is at least one case of masks in wrong order"
   ]
  },
  {
   "cell_type": "code",
   "execution_count": 1,
   "metadata": {},
   "outputs": [],
   "source": [
    "import numpy as np\n",
    "import matplotlib.pyplot as plt\n",
    "import glob\n",
    "import os"
   ]
  },
  {
   "cell_type": "code",
   "execution_count": 6,
   "metadata": {},
   "outputs": [
    {
     "name": "stdout",
     "output_type": "stream",
     "text": [
      "['valid_copy.tar.gz', 'test', 'test_copy.tar.gz', 'valid', 'train', 'train_copy.tar.gz', 'test_gt_copy.zip']\n"
     ]
    }
   ],
   "source": [
    "# work out where we are by printing contents of a given path\n",
    "IWOAI_path = '../data/IWOAI'\n",
    "print(os.listdir(IWOAI_path))"
   ]
  },
  {
   "cell_type": "code",
   "execution_count": 9,
   "metadata": {},
   "outputs": [],
   "source": [
    "# get list of paths for all images/masks\n",
    "train_images = glob.glob(IWOAI_path + '/train/*.im')\n",
    "valid_images = glob.glob(IWOAI_path + '/valid/*.im')\n",
    "test_images = glob.glob(IWOAI_path + '/test/*.im')"
   ]
  },
  {
   "cell_type": "code",
   "execution_count": 10,
   "metadata": {},
   "outputs": [
    {
     "name": "stdout",
     "output_type": "stream",
     "text": [
      "Number of training images: 120\n",
      "Number of validation images: 28\n",
      "Number of test images: 28\n"
     ]
    }
   ],
   "source": [
    "# print counts\n",
    "print('Number of training images:', len(train_images))\n",
    "print('Number of validation images:', len(valid_images))\n",
    "print('Number of test images:', len(test_images))"
   ]
  },
  {
   "cell_type": "code",
   "execution_count": null,
   "metadata": {},
   "outputs": [],
   "source": []
  }
 ],
 "metadata": {
  "kernelspec": {
   "display_name": "Python 3 (ipykernel)",
   "language": "python",
   "name": "python3"
  },
  "language_info": {
   "codemirror_mode": {
    "name": "ipython",
    "version": 3
   },
   "file_extension": ".py",
   "mimetype": "text/x-python",
   "name": "python",
   "nbconvert_exporter": "python",
   "pygments_lexer": "ipython3",
   "version": "3.10.9"
  }
 },
 "nbformat": 4,
 "nbformat_minor": 2
}
